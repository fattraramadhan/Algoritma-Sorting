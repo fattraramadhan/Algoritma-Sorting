{
 "cells": [
  {
   "cell_type": "markdown",
   "metadata": {},
   "source": [
    "# BUBBLE SORT"
   ]
  },
  {
   "cell_type": "code",
   "execution_count": 1,
   "metadata": {},
   "outputs": [],
   "source": [
    "def bs(list):\n",
    "    iterasi = 0\n",
    "    for j in range (len(list)-1):\n",
    "        for i in range(len(list)-1-j):\n",
    "            if list[i]>list[i+1]:\n",
    "                list[i],list[i+1]=list[i+1],list[i]\n",
    "        iterasi+=1\n",
    "        print(iterasi,list)"
   ]
  },
  {
   "cell_type": "code",
   "execution_count": 2,
   "metadata": {},
   "outputs": [
    {
     "name": "stdout",
     "output_type": "stream",
     "text": [
      "Data yang akan disorting adalah : [1, 27, 9, 30, 65]\n"
     ]
    }
   ],
   "source": [
    "list = [1,27,9,30,65]\n",
    "print('Data yang akan disorting adalah :',list)"
   ]
  },
  {
   "cell_type": "code",
   "execution_count": 3,
   "metadata": {},
   "outputs": [
    {
     "name": "stdout",
     "output_type": "stream",
     "text": [
      " Hasil Bubble Sorting adalah:\n",
      "1 [1, 9, 27, 30, 65]\n",
      "2 [1, 9, 27, 30, 65]\n",
      "3 [1, 9, 27, 30, 65]\n",
      "4 [1, 9, 27, 30, 65]\n"
     ]
    }
   ],
   "source": [
    "print (' Hasil Bubble Sorting adalah:')\n",
    "bs (list)"
   ]
  },
  {
   "cell_type": "markdown",
   "metadata": {},
   "source": [
    "# SELECTION SORT"
   ]
  },
  {
   "cell_type": "code",
   "execution_count": 4,
   "metadata": {},
   "outputs": [],
   "source": [
    "def ss(list):\n",
    "    iterasi = 0\n",
    "    for i in range(len(list)-1):\n",
    "        minimal = i\n",
    "        for j in range(i+1,len(list)):\n",
    "            if list[j] < list[minimal]:\n",
    "                minimal = j\n",
    "            iterasi += 1\n",
    "            list[minimal],list[i]=list[i], list[minimal]\n",
    "            print(iterasi,list)"
   ]
  },
  {
   "cell_type": "code",
   "execution_count": 5,
   "metadata": {},
   "outputs": [
    {
     "name": "stdout",
     "output_type": "stream",
     "text": [
      "Data yang akan disort adalah: [1, 60, 80, 50, 29, 10]\n"
     ]
    }
   ],
   "source": [
    "list=[1,60,80,50,29,10]\n",
    "print('Data yang akan disort adalah:', list)"
   ]
  },
  {
   "cell_type": "code",
   "execution_count": 6,
   "metadata": {},
   "outputs": [
    {
     "name": "stdout",
     "output_type": "stream",
     "text": [
      "Hasil Selection Sorting adalah:\n",
      "1 [1, 60, 80, 50, 29, 10]\n",
      "2 [1, 60, 80, 50, 29, 10]\n",
      "3 [1, 60, 80, 50, 29, 10]\n",
      "4 [1, 60, 80, 50, 29, 10]\n",
      "5 [1, 60, 80, 50, 29, 10]\n",
      "6 [1, 60, 80, 50, 29, 10]\n",
      "7 [1, 50, 80, 60, 29, 10]\n",
      "8 [1, 29, 80, 60, 50, 10]\n",
      "9 [1, 10, 80, 60, 50, 29]\n",
      "10 [1, 10, 60, 80, 50, 29]\n",
      "11 [1, 10, 50, 80, 60, 29]\n",
      "12 [1, 10, 29, 80, 60, 50]\n",
      "13 [1, 10, 29, 60, 80, 50]\n",
      "14 [1, 10, 29, 50, 80, 60]\n",
      "15 [1, 10, 29, 50, 60, 80]\n"
     ]
    }
   ],
   "source": [
    "print('Hasil Selection Sorting adalah:')\n",
    "ss (list)"
   ]
  },
  {
   "cell_type": "markdown",
   "metadata": {},
   "source": [
    "# Insertion Sort"
   ]
  },
  {
   "cell_type": "code",
   "execution_count": 7,
   "metadata": {},
   "outputs": [],
   "source": [
    "def insertion(list):\n",
    "    for j in range(len(list)-1,-1,-1):\n",
    "        value = list[j]\n",
    "        hole = j\n",
    "        while hole <(len(list)-1) and list [hole+1]>list[hole]:\n",
    "            list[hole] = list[hole+1]\n",
    "            hole = hole+1\n",
    "            list[hole] = value\n",
    "            print(list)"
   ]
  },
  {
   "cell_type": "code",
   "execution_count": 8,
   "metadata": {},
   "outputs": [
    {
     "name": "stdout",
     "output_type": "stream",
     "text": [
      "Data yang akan disorting adalah [1, 59, 37, 28, 50, 99]\n"
     ]
    }
   ],
   "source": [
    "list = [1,59,37,28,50,99]\n",
    "print(\"Data yang akan disorting adalah\", list)"
   ]
  },
  {
   "cell_type": "code",
   "execution_count": 9,
   "metadata": {},
   "outputs": [
    {
     "name": "stdout",
     "output_type": "stream",
     "text": [
      "Hasil Insertion Sort:\n",
      "[1, 59, 37, 28, 99, 50]\n",
      "[1, 59, 37, 99, 28, 50]\n",
      "[1, 59, 37, 99, 50, 28]\n",
      "[1, 59, 99, 37, 50, 28]\n",
      "[1, 59, 99, 50, 37, 28]\n",
      "[1, 99, 59, 50, 37, 28]\n",
      "[99, 1, 59, 50, 37, 28]\n",
      "[99, 59, 1, 50, 37, 28]\n",
      "[99, 59, 50, 1, 37, 28]\n",
      "[99, 59, 50, 37, 1, 28]\n",
      "[99, 59, 50, 37, 28, 1]\n"
     ]
    }
   ],
   "source": [
    "print(\"Hasil Insertion Sort:\")\n",
    "insertion(list)"
   ]
  }
 ],
 "metadata": {
  "kernelspec": {
   "display_name": "Python 3",
   "language": "python",
   "name": "python3"
  },
  "language_info": {
   "codemirror_mode": {
    "name": "ipython",
    "version": 3
   },
   "file_extension": ".py",
   "mimetype": "text/x-python",
   "name": "python",
   "nbconvert_exporter": "python",
   "pygments_lexer": "ipython3",
   "version": "3.7.6"
  }
 },
 "nbformat": 4,
 "nbformat_minor": 4
}
